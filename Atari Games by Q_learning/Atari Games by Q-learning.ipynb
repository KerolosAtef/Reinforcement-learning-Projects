{
 "cells": [
  {
   "cell_type": "markdown",
   "source": [
    "# Setup the requirement libraries"
   ],
   "metadata": {
    "collapsed": false,
    "pycharm": {
     "name": "#%% md\n"
    }
   }
  },
  {
   "cell_type": "code",
   "execution_count": 1,
   "outputs": [
    {
     "name": "stdout",
     "output_type": "stream",
     "text": [
      "Requirement already satisfied: gym in c:\\users\\kirolos\\appdata\\local\\programs\\python\\python310\\lib\\site-packages (0.24.0)\n",
      "Requirement already satisfied: numpy>=1.18.0 in c:\\users\\kirolos\\appdata\\local\\programs\\python\\python310\\lib\\site-packages (from gym) (1.22.4)\n",
      "Requirement already satisfied: gym-notices>=0.0.4 in c:\\users\\kirolos\\appdata\\local\\programs\\python\\python310\\lib\\site-packages (from gym) (0.0.6)\n",
      "Requirement already satisfied: cloudpickle>=1.2.0 in c:\\users\\kirolos\\appdata\\local\\programs\\python\\python310\\lib\\site-packages (from gym) (2.1.0)\n",
      "Requirement already satisfied: numpy in c:\\users\\kirolos\\appdata\\local\\programs\\python\\python310\\lib\\site-packages (1.22.4)\n"
     ]
    }
   ],
   "source": [
    "!pip install gym\n",
    "!pip install numpy"
   ],
   "metadata": {
    "collapsed": false,
    "pycharm": {
     "name": "#%%\n"
    }
   }
  },
  {
   "cell_type": "markdown",
   "source": [
    "# Setup an environment"
   ],
   "metadata": {
    "collapsed": false,
    "pycharm": {
     "name": "#%% md\n"
    }
   }
  },
  {
   "cell_type": "code",
   "execution_count": 2,
   "metadata": {
    "collapsed": true,
    "pycharm": {
     "name": "#%%\n"
    }
   },
   "outputs": [],
   "source": [
    "def setup_environment(env_name):\n",
    "    import gym\n",
    "    env = gym.make(env_name).env\n",
    "    env.reset()  # reset environment to a new, random state\n",
    "    env.render()\n",
    "    print(\"Action Space {}\".format(env.action_space))\n",
    "    print(\"State Space {}\".format(env.observation_space))\n",
    "    return env"
   ]
  },
  {
   "cell_type": "markdown",
   "source": [
    "## Choose your environment from the available environments below"
   ],
   "metadata": {
    "collapsed": false,
    "pycharm": {
     "name": "#%% md\n"
    }
   }
  },
  {
   "cell_type": "code",
   "execution_count": 3,
   "outputs": [
    {
     "name": "stderr",
     "output_type": "stream",
     "text": [
      "C:\\Users\\Kirolos\\AppData\\Local\\Programs\\Python\\Python310\\lib\\site-packages\\gym\\envs\\registration.py:423: UserWarning: \u001B[33mWARN: Custom namespace `ALE` is being overridden by namespace `ALE`. If you are developing a plugin you shouldn't specify a namespace in `register` calls. The namespace is specified through the entry point package metadata.\u001B[0m\n",
      "  logger.warn(\n"
     ]
    },
    {
     "name": "stdout",
     "output_type": "stream",
     "text": [
      "Action Space Discrete(6)\n",
      "State Space Discrete(500)\n"
     ]
    }
   ],
   "source": [
    "environment_names=[\"Taxi-v3\",\"FrozenLake-v1\",\"CliffWalking-v0\"]\n",
    "env=setup_environment(environment_names[0])\n",
    "env.render()"
   ],
   "metadata": {
    "collapsed": false,
    "pycharm": {
     "name": "#%%\n"
    }
   }
  },
  {
   "cell_type": "markdown",
   "source": [
    "# Try to take random actions to achieve the goal"
   ],
   "metadata": {
    "collapsed": false,
    "pycharm": {
     "name": "#%% md\n"
    }
   }
  },
  {
   "cell_type": "code",
   "execution_count": 4,
   "outputs": [],
   "source": [
    "def random_action_to_end(env):\n",
    "    epochs = 0\n",
    "    penalties, reward = 0, 0\n",
    "    frames = []  # for animation\n",
    "    done = False\n",
    "    while not done:\n",
    "      # automatically selects one random action\n",
    "        action = env.action_space.sample()\n",
    "        state, reward, done, info = env.step(action)\n",
    "        if reward == -10:\n",
    "            penalties += 1\n",
    "\n",
    "        # Put each rendered frame into dict for animation\n",
    "        frames.append({\n",
    "            'frame': env.render(mode='ansi'),\n",
    "            'state': state,\n",
    "            'action': action,\n",
    "            'reward': reward\n",
    "            }\n",
    "        )\n",
    "        epochs += 1\n",
    "\n",
    "    print(\"Timesteps taken: {}\".format(epochs))\n",
    "    print(\"Penalties incurred: {}\".format(penalties))\n",
    "    return frames"
   ],
   "metadata": {
    "collapsed": false,
    "pycharm": {
     "name": "#%%\n"
    }
   }
  },
  {
   "cell_type": "code",
   "execution_count": 5,
   "outputs": [],
   "source": [
    "def print_frames(frames):\n",
    "    from IPython.display import clear_output\n",
    "    from time import sleep\n",
    "    for i, frame in enumerate(frames):\n",
    "        clear_output(wait=True)\n",
    "        #print(frame['frame'].getvalue())\n",
    "        print(frame['frame'])\n",
    "        print(f\"Timestep: {i + 1}\")\n",
    "        print(f\"State: {frame['state']}\")\n",
    "        print(f\"Action: {frame['action']}\")\n",
    "        print(f\"Reward: {frame['reward']}\")\n",
    "        sleep(.1)"
   ],
   "metadata": {
    "collapsed": false,
    "pycharm": {
     "name": "#%%\n"
    }
   }
  },
  {
   "cell_type": "code",
   "execution_count": 8,
   "outputs": [
    {
     "name": "stdout",
     "output_type": "stream",
     "text": [
      "Timesteps taken: 67\n",
      "Penalties incurred: 22\n"
     ]
    }
   ],
   "source": [
    "frames=random_action_to_end(env)"
   ],
   "metadata": {
    "collapsed": false,
    "pycharm": {
     "name": "#%%\n"
    }
   }
  },
  {
   "cell_type": "code",
   "execution_count": 9,
   "outputs": [
    {
     "name": "stdout",
     "output_type": "stream",
     "text": [
      "+---------+\n",
      "|R: | : :G|\n",
      "| : | : : |\n",
      "| : : : : |\n",
      "| | : | : |\n",
      "|\u001B[35m\u001B[34;1m\u001B[43mY\u001B[0m\u001B[0m\u001B[0m| : |B: |\n",
      "+---------+\n",
      "  (Dropoff)\n",
      "\n",
      "Timestep: 67\n",
      "State: 410\n",
      "Action: 5\n",
      "Reward: 20\n"
     ]
    }
   ],
   "source": [
    "print_frames(frames)"
   ],
   "metadata": {
    "collapsed": false,
    "pycharm": {
     "name": "#%%\n"
    }
   }
  },
  {
   "cell_type": "markdown",
   "source": [
    "# Train the agent using Q-learning algorithm"
   ],
   "metadata": {
    "collapsed": false,
    "pycharm": {
     "name": "#%% md\n"
    }
   }
  },
  {
   "cell_type": "code",
   "execution_count": 12,
   "outputs": [],
   "source": [
    "import random\n",
    "from IPython.display import clear_output\n",
    "import numpy as np\n",
    "def train_the_agent(env,alpha,gamma,epsilon,training_steps,decay_steps,decay=False):\n",
    "    q_table = np.zeros([env.observation_space.n, env.action_space.n])\n",
    "    alpha_decay=1e-3\n",
    "    gamma_decay=1e-3\n",
    "    epsilon_decay=1e-3\n",
    "\n",
    "    for i in range(1,training_steps ):\n",
    "        state = env.reset()\n",
    "        epochs, penalties, reward, = 0, 0, 0\n",
    "        done = False\n",
    "        if decay and not i % decay_steps :\n",
    "            alpha-=alpha_decay\n",
    "            gamma-=gamma_decay\n",
    "            epsilon-=epsilon_decay\n",
    "        while not done:\n",
    "            if random.uniform(0, 1) < epsilon:\n",
    "                action = env.action_space.sample() # Explore action space\n",
    "            else:\n",
    "                action = np.argmax(q_table[state]) # Exploit learned values\n",
    "\n",
    "            next_state, reward, done, info = env.step(action)\n",
    "\n",
    "            old_value = q_table[state, action]\n",
    "            next_max = np.max(q_table[next_state])\n",
    "\n",
    "            new_value = (1 - alpha) * old_value + alpha * (reward + gamma * next_max)\n",
    "            q_table[state, action] = new_value\n",
    "\n",
    "            if reward == -10:\n",
    "                penalties += 1\n",
    "\n",
    "            state = next_state\n",
    "            epochs += 1\n",
    "\n",
    "        if i % 100 == 0:\n",
    "            clear_output(wait=True)\n",
    "            print(f\"Episode: {i}\")\n",
    "\n",
    "    print(\"Training finished.\\n\")\n",
    "    return q_table"
   ],
   "metadata": {
    "collapsed": false,
    "pycharm": {
     "name": "#%%\n"
    }
   }
  },
  {
   "cell_type": "code",
   "execution_count": 13,
   "outputs": [
    {
     "name": "stdout",
     "output_type": "stream",
     "text": [
      "Episode: 100000\n",
      "Training finished.\n",
      "\n"
     ]
    }
   ],
   "source": [
    "q_table=train_the_agent(env,alpha=0.1,gamma=0.6,epsilon=0.1,decay_steps=10000,training_steps=100001,decay=True)"
   ],
   "metadata": {
    "collapsed": false,
    "pycharm": {
     "name": "#%%\n"
    }
   }
  },
  {
   "cell_type": "markdown",
   "source": [
    "# Evaluation\n",
    "Evaluate agent's performance after Q-learning"
   ],
   "metadata": {
    "collapsed": false,
    "pycharm": {
     "name": "#%% md\n"
    }
   }
  },
  {
   "cell_type": "code",
   "execution_count": 17,
   "outputs": [],
   "source": [
    "def evaluate(q_table,episodes):\n",
    "    total_epochs, total_penalties = 0, 0\n",
    "    for _ in range(episodes):\n",
    "        # Choose random initial state\n",
    "        state = env.reset()\n",
    "        epochs, penalties, reward = 0, 0, 0\n",
    "        done = False\n",
    "        frames=[]\n",
    "        while not done:\n",
    "            action = np.argmax(q_table[state])\n",
    "            # print(action)\n",
    "            state, reward, done, info = env.step(action)\n",
    "            # Put each rendered frame into dict for animation\n",
    "            frames.append({\n",
    "            'frame': env.render(mode='ansi'),\n",
    "            'state': state,\n",
    "            'action': action,\n",
    "            'reward': reward\n",
    "            }\n",
    "            )\n",
    "\n",
    "            if reward == -10:\n",
    "                penalties += 1\n",
    "\n",
    "            epochs += 1\n",
    "\n",
    "        total_penalties += penalties\n",
    "        total_epochs += epochs\n",
    "    print_frames(frames)\n",
    "    print(f\"Results after {episodes} episodes:\")\n",
    "    print(f\"Average timesteps per episode: {total_epochs / episodes}\")\n",
    "    print(f\"Average penalties per episode: {total_penalties / episodes}\")\n",
    "    return total_epochs,total_penalties"
   ],
   "metadata": {
    "collapsed": false,
    "pycharm": {
     "name": "#%%\n"
    }
   }
  },
  {
   "cell_type": "code",
   "execution_count": 18,
   "outputs": [
    {
     "name": "stdout",
     "output_type": "stream",
     "text": [
      "+---------+\n",
      "|\u001B[35m\u001B[34;1m\u001B[43mR\u001B[0m\u001B[0m\u001B[0m: | : :G|\n",
      "| : | : : |\n",
      "| : : : : |\n",
      "| | : | : |\n",
      "|Y| : |B: |\n",
      "+---------+\n",
      "  (Dropoff)\n",
      "\n",
      "Timestep: 13\n",
      "State: 0\n",
      "Action: 5\n",
      "Reward: 20\n",
      "Results after 100 episodes:\n",
      "Average timesteps per episode: 12.69\n",
      "Average penalties per episode: 0.0\n"
     ]
    }
   ],
   "source": [
    "total_epochs,total_penalties=evaluate(q_table=q_table,episodes=100)"
   ],
   "metadata": {
    "collapsed": false,
    "pycharm": {
     "name": "#%%\n"
    }
   }
  },
  {
   "cell_type": "markdown",
   "source": [
    "# Grid search to get the best hyperparameter"
   ],
   "metadata": {
    "collapsed": false,
    "pycharm": {
     "name": "#%% md\n"
    }
   }
  },
  {
   "cell_type": "code",
   "execution_count": 20,
   "outputs": [
    {
     "name": "stdout",
     "output_type": "stream",
     "text": [
      "+---------+\n",
      "|R: | : :\u001B[35m\u001B[34;1m\u001B[43mG\u001B[0m\u001B[0m\u001B[0m|\n",
      "| : | : : |\n",
      "| : : : : |\n",
      "| | : | : |\n",
      "|Y| : |B: |\n",
      "+---------+\n",
      "  (Dropoff)\n",
      "\n",
      "Timestep: 11\n",
      "State: 85\n",
      "Action: 5\n",
      "Reward: 20\n",
      "Results after 100 episodes:\n",
      "Average timesteps per episode: 12.98\n",
      "Average penalties per episode: 0.0\n",
      "    Alpha  Gamma  Epsilon  Evaluation Total Penalties  Evaluation Total Epochs\n",
      "0     0.1    0.3      0.7                           0                     1303\n",
      "1     0.1    0.6      0.7                           0                     1300\n",
      "2     0.1    0.8      0.7                           0                     1328\n",
      "3     0.1    0.9      0.7                           0                     1316\n",
      "4     0.3    0.3      0.7                           0                     1245\n",
      "..    ...    ...      ...                         ...                      ...\n",
      "59    0.5    0.9      0.9                           0                     1354\n",
      "60    0.9    0.3      0.9                           0                     1303\n",
      "61    0.9    0.6      0.9                           0                     1280\n",
      "62    0.9    0.8      0.9                           0                     1347\n",
      "63    0.9    0.9      0.9                           0                     1298\n",
      "\n",
      "[64 rows x 5 columns]\n",
      "0.9 0.9 0.9\n"
     ]
    }
   ],
   "source": [
    "import pandas as pd\n",
    "alpha=[0.1,0.3,0.5,0.9]\n",
    "gamma=[0.3,0.6,0.8,0.9]\n",
    "epsilon=[0.7,0.6,0.8,0.9]\n",
    "best_alpha,best_gamma,best_epsilon=0,0,0\n",
    "mini_penalties=999999999999999999\n",
    "mini_epochs=9999999999999999\n",
    "parameters={\n",
    "    \"Alpha\":[],\n",
    "    \"Gamma\":[],\n",
    "    \"Epsilon\":[],\n",
    "    \"Evaluation Total Penalties\":[],\n",
    "    \"Evaluation Total Epochs\":[],\n",
    "}\n",
    "for ep in epsilon :\n",
    "    for al in alpha :\n",
    "        for gm in gamma :\n",
    "            returned_q_table=train_the_agent(env=env,alpha=al,gamma=gm,epsilon=ep,decay_steps=10000,training_steps=100000,decay=False)\n",
    "            total_epochs,total_penalties=evaluate(returned_q_table,100)\n",
    "            parameters['Alpha'].append(al)\n",
    "            parameters['Gamma'].append(gm)\n",
    "            parameters['Epsilon'].append(ep)\n",
    "            parameters['Evaluation Total Penalties'].append(total_penalties)\n",
    "            parameters['Evaluation Total Epochs'].append(total_epochs)\n",
    "            if total_penalties<=mini_penalties:\n",
    "                mini_penalties=total_penalties\n",
    "                best_alpha=al\n",
    "                best_gamma=gm\n",
    "                best_epsilon=ep\n",
    "            if  total_epochs<=mini_epochs:\n",
    "                total_epochs=mini_epochs\n",
    "                best_alpha=al\n",
    "                best_gamma=gm\n",
    "                best_epsilon=ep\n",
    "\n",
    "parameters=pd.DataFrame(parameters)\n",
    "print(parameters)\n",
    "print(best_alpha,best_gamma,best_epsilon)"
   ],
   "metadata": {
    "collapsed": false,
    "pycharm": {
     "name": "#%%\n"
    }
   }
  },
  {
   "cell_type": "code",
   "execution_count": 21,
   "outputs": [
    {
     "data": {
      "text/plain": "    Alpha  Gamma  Epsilon  Evaluation Total Penalties  Evaluation Total Epochs\n0     0.1    0.3      0.7                           0                     1303\n1     0.1    0.6      0.7                           0                     1300\n2     0.1    0.8      0.7                           0                     1328\n3     0.1    0.9      0.7                           0                     1316\n4     0.3    0.3      0.7                           0                     1245\n..    ...    ...      ...                         ...                      ...\n59    0.5    0.9      0.9                           0                     1354\n60    0.9    0.3      0.9                           0                     1303\n61    0.9    0.6      0.9                           0                     1280\n62    0.9    0.8      0.9                           0                     1347\n63    0.9    0.9      0.9                           0                     1298\n\n[64 rows x 5 columns]",
      "text/html": "<div>\n<style scoped>\n    .dataframe tbody tr th:only-of-type {\n        vertical-align: middle;\n    }\n\n    .dataframe tbody tr th {\n        vertical-align: top;\n    }\n\n    .dataframe thead th {\n        text-align: right;\n    }\n</style>\n<table border=\"1\" class=\"dataframe\">\n  <thead>\n    <tr style=\"text-align: right;\">\n      <th></th>\n      <th>Alpha</th>\n      <th>Gamma</th>\n      <th>Epsilon</th>\n      <th>Evaluation Total Penalties</th>\n      <th>Evaluation Total Epochs</th>\n    </tr>\n  </thead>\n  <tbody>\n    <tr>\n      <th>0</th>\n      <td>0.1</td>\n      <td>0.3</td>\n      <td>0.7</td>\n      <td>0</td>\n      <td>1303</td>\n    </tr>\n    <tr>\n      <th>1</th>\n      <td>0.1</td>\n      <td>0.6</td>\n      <td>0.7</td>\n      <td>0</td>\n      <td>1300</td>\n    </tr>\n    <tr>\n      <th>2</th>\n      <td>0.1</td>\n      <td>0.8</td>\n      <td>0.7</td>\n      <td>0</td>\n      <td>1328</td>\n    </tr>\n    <tr>\n      <th>3</th>\n      <td>0.1</td>\n      <td>0.9</td>\n      <td>0.7</td>\n      <td>0</td>\n      <td>1316</td>\n    </tr>\n    <tr>\n      <th>4</th>\n      <td>0.3</td>\n      <td>0.3</td>\n      <td>0.7</td>\n      <td>0</td>\n      <td>1245</td>\n    </tr>\n    <tr>\n      <th>...</th>\n      <td>...</td>\n      <td>...</td>\n      <td>...</td>\n      <td>...</td>\n      <td>...</td>\n    </tr>\n    <tr>\n      <th>59</th>\n      <td>0.5</td>\n      <td>0.9</td>\n      <td>0.9</td>\n      <td>0</td>\n      <td>1354</td>\n    </tr>\n    <tr>\n      <th>60</th>\n      <td>0.9</td>\n      <td>0.3</td>\n      <td>0.9</td>\n      <td>0</td>\n      <td>1303</td>\n    </tr>\n    <tr>\n      <th>61</th>\n      <td>0.9</td>\n      <td>0.6</td>\n      <td>0.9</td>\n      <td>0</td>\n      <td>1280</td>\n    </tr>\n    <tr>\n      <th>62</th>\n      <td>0.9</td>\n      <td>0.8</td>\n      <td>0.9</td>\n      <td>0</td>\n      <td>1347</td>\n    </tr>\n    <tr>\n      <th>63</th>\n      <td>0.9</td>\n      <td>0.9</td>\n      <td>0.9</td>\n      <td>0</td>\n      <td>1298</td>\n    </tr>\n  </tbody>\n</table>\n<p>64 rows × 5 columns</p>\n</div>"
     },
     "execution_count": 21,
     "metadata": {},
     "output_type": "execute_result"
    }
   ],
   "source": [
    "parameters"
   ],
   "metadata": {
    "collapsed": false,
    "pycharm": {
     "name": "#%%\n"
    }
   }
  },
  {
   "cell_type": "markdown",
   "source": [
    "# Train with the best hyper parameters"
   ],
   "metadata": {
    "collapsed": false,
    "pycharm": {
     "name": "#%% md\n"
    }
   }
  },
  {
   "cell_type": "code",
   "execution_count": 22,
   "outputs": [
    {
     "name": "stdout",
     "output_type": "stream",
     "text": [
      "Episode: 99900\n",
      "Training finished.\n",
      "\n"
     ]
    }
   ],
   "source": [
    "best_q_table=train_the_agent(env,best_alpha,best_gamma,best_epsilon,training_steps=100000,decay_steps=10000,decay=True)"
   ],
   "metadata": {
    "collapsed": false,
    "pycharm": {
     "name": "#%%\n"
    }
   }
  },
  {
   "cell_type": "markdown",
   "source": [
    "# Visualization of trained model over number of episodes"
   ],
   "metadata": {
    "collapsed": false,
    "pycharm": {
     "name": "#%% md\n"
    }
   }
  },
  {
   "cell_type": "code",
   "execution_count": 24,
   "outputs": [
    {
     "name": "stdout",
     "output_type": "stream",
     "text": [
      "+---------+\n",
      "|R: | : :G|\n",
      "| : | : : |\n",
      "| : : : : |\n",
      "| | : | : |\n",
      "|Y| : |\u001B[35m\u001B[34;1m\u001B[43mB\u001B[0m\u001B[0m\u001B[0m: |\n",
      "+---------+\n",
      "  (Dropoff)\n",
      "\n",
      "Timestep: 14\n",
      "State: 475\n",
      "Action: 5\n",
      "Reward: 20\n",
      "Episode 499\n",
      "Results after 500 episodes:\n",
      "Average timesteps per episode: 12.918\n",
      "Average penalties per episode: 0.0\n"
     ]
    }
   ],
   "source": [
    "total_epochs, total_penalties = 0, 0\n",
    "episodes = 500\n",
    "for episode in range(episodes):\n",
    "    state = env.reset()\n",
    "    epochs, penalties, reward = 0, 0, 0\n",
    "\n",
    "    done = False\n",
    "    frames=[]\n",
    "    while not done:\n",
    "        action = np.argmax(best_q_table[state])\n",
    "        state, reward, done, info = env.step(action)\n",
    "        # Put each rendered frame into dict for animation\n",
    "        frames.append({\n",
    "        'frame': env.render(mode='ansi'),\n",
    "        'state': state,\n",
    "        'action': action,\n",
    "        'reward': reward\n",
    "        }\n",
    "        )\n",
    "        if reward == -10:\n",
    "            penalties += 1\n",
    "\n",
    "        epochs += 1\n",
    "    total_penalties += penalties\n",
    "    total_epochs += epochs\n",
    "    clear_output(wait=False)\n",
    "    print_frames(frames=frames)\n",
    "    print(f\"Episode {episode}\")\n",
    "\n",
    "print(f\"Results after {episodes} episodes:\")\n",
    "print(f\"Average timesteps per episode: {total_epochs / episodes}\")\n",
    "print(f\"Average penalties per episode: {total_penalties / episodes}\")"
   ],
   "metadata": {
    "collapsed": false,
    "pycharm": {
     "name": "#%%\n"
    }
   }
  },
  {
   "cell_type": "code",
   "execution_count": null,
   "outputs": [],
   "source": [],
   "metadata": {
    "collapsed": false,
    "pycharm": {
     "name": "#%%\n"
    }
   }
  }
 ],
 "metadata": {
  "kernelspec": {
   "display_name": "Python 3",
   "language": "python",
   "name": "python3"
  },
  "language_info": {
   "codemirror_mode": {
    "name": "ipython",
    "version": 2
   },
   "file_extension": ".py",
   "mimetype": "text/x-python",
   "name": "python",
   "nbconvert_exporter": "python",
   "pygments_lexer": "ipython2",
   "version": "2.7.6"
  }
 },
 "nbformat": 4,
 "nbformat_minor": 0
}